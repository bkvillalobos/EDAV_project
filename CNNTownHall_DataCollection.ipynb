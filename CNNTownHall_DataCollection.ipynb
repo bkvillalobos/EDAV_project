{
 "cells": [
  {
   "cell_type": "code",
   "execution_count": 1,
   "metadata": {
    "collapsed": true
   },
   "outputs": [],
   "source": [
    "from searchtweets import ResultStream, gen_rule_payload, load_credentials, convert_utc_time"
   ]
  },
  {
   "cell_type": "code",
   "execution_count": 2,
   "metadata": {},
   "outputs": [
    {
     "name": "stderr",
     "output_type": "stream",
     "text": [
      "Grabbing bearer token from OAUTH\n"
     ]
    }
   ],
   "source": [
    "premium_search_args = load_credentials(filename=\"~/.twitter_keys.yaml\", \n",
    "                                       yaml_key=\"search_tweets_fullarchive_dev\",\n",
    "                                       env_overwrite=True)"
   ]
  },
  {
   "cell_type": "code",
   "execution_count": 3,
   "metadata": {
    "collapsed": true
   },
   "outputs": [],
   "source": [
    "from datetime import timedelta, datetime as dt"
   ]
  },
  {
   "cell_type": "code",
   "execution_count": 125,
   "metadata": {},
   "outputs": [
    {
     "name": "stdout",
     "output_type": "stream",
     "text": [
      "origin in EST: 2018-02-21 21:22:00\n",
      "origin in UTC: 2018-02-22 02:22:00\n",
      "49\n"
     ]
    }
   ],
   "source": [
    "fmt = '%Y-%m-%d %H:%M'\n",
    "original_dt = dt.strptime(\"2018-02-21 21:22\", fmt)\n",
    "print('origin in EST:', original_dt)\n",
    "minutes_to_sample = list()\n",
    "curr_time = original_dt + timedelta(hours=5) # add 5 hours to set to UTC time\n",
    "print('origin in UTC:', curr_time)\n",
    "for i in range(1,50):\n",
    "    # increment origin by one minute for start time\n",
    "    delta_start = curr_time + timedelta(minutes=2) \n",
    "    delta_start_str = delta_start.strftime(fmt)\n",
    "    \n",
    "    # increment start time by three minutes for (exclusive) end time\n",
    "    delta_end = delta_start + timedelta(minutes=2) \n",
    "    delta_end_str = delta_end.strftime(fmt)\n",
    "    \n",
    "    # append time range tuple to list of minutes to sample\n",
    "    minutes_to_sample.append((delta_start_str, delta_end_str))\n",
    "    \n",
    "    curr_time = delta_start\n",
    "minutes_to_sample = [(convert_utc_time(start),convert_utc_time(end)) for start,end in minutes_to_sample]\n",
    "print(len(minutes_to_sample))"
   ]
  },
  {
   "cell_type": "code",
   "execution_count": 126,
   "metadata": {},
   "outputs": [
    {
     "name": "stdout",
     "output_type": "stream",
     "text": [
      "[('201802220224', '201802220226'), ('201802220226', '201802220228'), ('201802220228', '201802220230'), ('201802220230', '201802220232'), ('201802220232', '201802220234')]\n",
      "[('201802220352', '201802220354'), ('201802220354', '201802220356'), ('201802220356', '201802220358'), ('201802220358', '201802220400'), ('201802220400', '201802220402')]\n"
     ]
    }
   ],
   "source": [
    "print(minutes_to_sample[:5])\n",
    "print(minutes_to_sample[-5:])"
   ]
  },
  {
   "cell_type": "code",
   "execution_count": 88,
   "metadata": {},
   "outputs": [],
   "source": [
    "def query_and_save(q_rule, from_date, save_to='data',\n",
    "                   premium_search_args=premium_search_args):\n",
    "    import json\n",
    "    import os\n",
    "    from searchtweets import ResultStream\n",
    "    save_path = os.path.join(save_to,'{0}.json'.format('_'.join([from_date] + q_rule.split())))\n",
    "    rs = ResultStream(rule_payload=q_rule,\n",
    "                  max_results=500,\n",
    "                  max_pages=1,\n",
    "                  **premium_search_args)\n",
    "    ###return rs\n",
    "    try:\n",
    "        tweets = list(rs.stream())\n",
    "    except Exception as e:\n",
    "        print(e)\n",
    "        return e\n",
    "    with open(save_path, 'w') as f:\n",
    "        f.write(json.dumps(tweets, indent=2))\n",
    "    return tweets"
   ]
  },
  {
   "cell_type": "code",
   "execution_count": 127,
   "metadata": {
    "collapsed": true
   },
   "outputs": [],
   "source": [
    "already_queried = list()\n",
    "def safe_pop(from_list, to_list):\n",
    "    val = from_list.pop(0)\n",
    "    to_list.append(val)\n",
    "    return val"
   ]
  },
  {
   "cell_type": "markdown",
   "metadata": {},
   "source": [
    "# Prototype queries"
   ]
  },
  {
   "cell_type": "code",
   "execution_count": 113,
   "metadata": {},
   "outputs": [
    {
     "name": "stdout",
     "output_type": "stream",
     "text": [
      "('201802220210', '201802220212')\n"
     ]
    }
   ],
   "source": [
    "# first, test query \n",
    "\n",
    "#datetime range\n",
    "dt_range = safe_pop(minutes_to_sample, already_queried)\n",
    "print(dt_range)"
   ]
  },
  {
   "cell_type": "code",
   "execution_count": 114,
   "metadata": {},
   "outputs": [
    {
     "name": "stdout",
     "output_type": "stream",
     "text": [
      "query_rule: {\"query\": \"#CNNTownHall\", \"maxResults\": 500, \"toDate\": \"201802220212\", \"fromDate\": \"201802220210\"}\n"
     ]
    }
   ],
   "source": [
    "# creat test query's rule\n",
    "rule = gen_rule_payload(pt_rule=\"#CNNTownHall\", results_per_call=500, \n",
    "                        from_date=dt_range[0], to_date=dt_range[1])\n",
    "print('query_rule:',rule)"
   ]
  },
  {
   "cell_type": "code",
   "execution_count": 115,
   "metadata": {},
   "outputs": [],
   "source": [
    "# make the test query\n",
    "result = query_and_save(q_rule=rule, from_date=dt_range[0])"
   ]
  },
  {
   "cell_type": "code",
   "execution_count": 116,
   "metadata": {},
   "outputs": [
    {
     "data": {
      "text/plain": [
       "500"
      ]
     },
     "execution_count": 116,
     "metadata": {},
     "output_type": "execute_result"
    }
   ],
   "source": [
    "len(result)"
   ]
  },
  {
   "cell_type": "code",
   "execution_count": 118,
   "metadata": {},
   "outputs": [
    {
     "data": {
      "text/plain": [
       "90"
      ]
     },
     "execution_count": 118,
     "metadata": {},
     "output_type": "execute_result"
    }
   ],
   "source": [
    "len(minutes_to_sample)"
   ]
  },
  {
   "cell_type": "markdown",
   "metadata": {},
   "source": [
    "# Iterative queries"
   ]
  },
  {
   "cell_type": "code",
   "execution_count": 132,
   "metadata": {},
   "outputs": [
    {
     "name": "stdout",
     "output_type": "stream",
     "text": [
      "('201802220238', '201802220240')\n",
      "query_rule: {\"query\": \"#CNNTownHall\", \"maxResults\": 500, \"toDate\": \"201802220240\", \"fromDate\": \"201802220238\"}\n",
      "\t#results: 500\n",
      "('201802220240', '201802220242')\n",
      "query_rule: {\"query\": \"#CNNTownHall\", \"maxResults\": 500, \"toDate\": \"201802220242\", \"fromDate\": \"201802220240\"}\n",
      "\t#results: 500\n",
      "('201802220242', '201802220244')\n",
      "query_rule: {\"query\": \"#CNNTownHall\", \"maxResults\": 500, \"toDate\": \"201802220244\", \"fromDate\": \"201802220242\"}\n",
      "\t#results: 500\n",
      "('201802220244', '201802220246')\n",
      "query_rule: {\"query\": \"#CNNTownHall\", \"maxResults\": 500, \"toDate\": \"201802220246\", \"fromDate\": \"201802220244\"}\n",
      "\t#results: 500\n",
      "('201802220246', '201802220248')\n",
      "query_rule: {\"query\": \"#CNNTownHall\", \"maxResults\": 500, \"toDate\": \"201802220248\", \"fromDate\": \"201802220246\"}\n",
      "\t#results: 500\n",
      "('201802220248', '201802220250')\n",
      "query_rule: {\"query\": \"#CNNTownHall\", \"maxResults\": 500, \"toDate\": \"201802220250\", \"fromDate\": \"201802220248\"}\n",
      "\t#results: 500\n",
      "('201802220250', '201802220252')\n",
      "query_rule: {\"query\": \"#CNNTownHall\", \"maxResults\": 500, \"toDate\": \"201802220252\", \"fromDate\": \"201802220250\"}\n",
      "\t#results: 500\n",
      "('201802220252', '201802220254')\n",
      "query_rule: {\"query\": \"#CNNTownHall\", \"maxResults\": 500, \"toDate\": \"201802220254\", \"fromDate\": \"201802220252\"}\n",
      "\t#results: 500\n",
      "('201802220254', '201802220256')\n",
      "query_rule: {\"query\": \"#CNNTownHall\", \"maxResults\": 500, \"toDate\": \"201802220256\", \"fromDate\": \"201802220254\"}\n",
      "\t#results: 500\n",
      "('201802220256', '201802220258')\n",
      "query_rule: {\"query\": \"#CNNTownHall\", \"maxResults\": 500, \"toDate\": \"201802220258\", \"fromDate\": \"201802220256\"}\n",
      "\t#results: 500\n",
      "('201802220258', '201802220300')\n",
      "query_rule: {\"query\": \"#CNNTownHall\", \"maxResults\": 500, \"toDate\": \"201802220300\", \"fromDate\": \"201802220258\"}\n",
      "\t#results: 500\n",
      "('201802220300', '201802220302')\n",
      "query_rule: {\"query\": \"#CNNTownHall\", \"maxResults\": 500, \"toDate\": \"201802220302\", \"fromDate\": \"201802220300\"}\n",
      "\t#results: 500\n",
      "('201802220302', '201802220304')\n",
      "query_rule: {\"query\": \"#CNNTownHall\", \"maxResults\": 500, \"toDate\": \"201802220304\", \"fromDate\": \"201802220302\"}\n",
      "\t#results: 500\n",
      "('201802220304', '201802220306')\n",
      "query_rule: {\"query\": \"#CNNTownHall\", \"maxResults\": 500, \"toDate\": \"201802220306\", \"fromDate\": \"201802220304\"}\n",
      "\t#results: 500\n",
      "('201802220306', '201802220308')\n",
      "query_rule: {\"query\": \"#CNNTownHall\", \"maxResults\": 500, \"toDate\": \"201802220308\", \"fromDate\": \"201802220306\"}\n",
      "\t#results: 500\n",
      "('201802220308', '201802220310')\n",
      "query_rule: {\"query\": \"#CNNTownHall\", \"maxResults\": 500, \"toDate\": \"201802220310\", \"fromDate\": \"201802220308\"}\n",
      "\t#results: 500\n",
      "('201802220310', '201802220312')\n",
      "query_rule: {\"query\": \"#CNNTownHall\", \"maxResults\": 500, \"toDate\": \"201802220312\", \"fromDate\": \"201802220310\"}\n",
      "\t#results: 500\n",
      "('201802220312', '201802220314')\n",
      "query_rule: {\"query\": \"#CNNTownHall\", \"maxResults\": 500, \"toDate\": \"201802220314\", \"fromDate\": \"201802220312\"}\n",
      "\t#results: 500\n",
      "('201802220314', '201802220316')\n",
      "query_rule: {\"query\": \"#CNNTownHall\", \"maxResults\": 500, \"toDate\": \"201802220316\", \"fromDate\": \"201802220314\"}\n",
      "\t#results: 500\n",
      "('201802220316', '201802220318')\n",
      "query_rule: {\"query\": \"#CNNTownHall\", \"maxResults\": 500, \"toDate\": \"201802220318\", \"fromDate\": \"201802220316\"}\n",
      "\t#results: 500\n",
      "('201802220318', '201802220320')\n",
      "query_rule: {\"query\": \"#CNNTownHall\", \"maxResults\": 500, \"toDate\": \"201802220320\", \"fromDate\": \"201802220318\"}\n",
      "\t#results: 500\n",
      "('201802220320', '201802220322')\n",
      "query_rule: {\"query\": \"#CNNTownHall\", \"maxResults\": 500, \"toDate\": \"201802220322\", \"fromDate\": \"201802220320\"}\n",
      "\t#results: 500\n",
      "('201802220322', '201802220324')\n",
      "query_rule: {\"query\": \"#CNNTownHall\", \"maxResults\": 500, \"toDate\": \"201802220324\", \"fromDate\": \"201802220322\"}\n",
      "\t#results: 500\n",
      "('201802220324', '201802220326')\n",
      "query_rule: {\"query\": \"#CNNTownHall\", \"maxResults\": 500, \"toDate\": \"201802220326\", \"fromDate\": \"201802220324\"}\n",
      "\t#results: 500\n",
      "('201802220326', '201802220328')\n",
      "query_rule: {\"query\": \"#CNNTownHall\", \"maxResults\": 500, \"toDate\": \"201802220328\", \"fromDate\": \"201802220326\"}\n",
      "\t#results: 500\n",
      "('201802220328', '201802220330')\n",
      "query_rule: {\"query\": \"#CNNTownHall\", \"maxResults\": 500, \"toDate\": \"201802220330\", \"fromDate\": \"201802220328\"}\n",
      "\t#results: 500\n",
      "('201802220330', '201802220332')\n",
      "query_rule: {\"query\": \"#CNNTownHall\", \"maxResults\": 500, \"toDate\": \"201802220332\", \"fromDate\": \"201802220330\"}\n",
      "\t#results: 500\n",
      "('201802220332', '201802220334')\n",
      "query_rule: {\"query\": \"#CNNTownHall\", \"maxResults\": 500, \"toDate\": \"201802220334\", \"fromDate\": \"201802220332\"}\n",
      "\t#results: 500\n",
      "('201802220334', '201802220336')\n",
      "query_rule: {\"query\": \"#CNNTownHall\", \"maxResults\": 500, \"toDate\": \"201802220336\", \"fromDate\": \"201802220334\"}\n",
      "\t#results: 500\n",
      "('201802220336', '201802220338')\n",
      "query_rule: {\"query\": \"#CNNTownHall\", \"maxResults\": 500, \"toDate\": \"201802220338\", \"fromDate\": \"201802220336\"}\n",
      "\t#results: 500\n",
      "('201802220338', '201802220340')\n",
      "query_rule: {\"query\": \"#CNNTownHall\", \"maxResults\": 500, \"toDate\": \"201802220340\", \"fromDate\": \"201802220338\"}\n",
      "\t#results: 500\n",
      "('201802220340', '201802220342')\n",
      "query_rule: {\"query\": \"#CNNTownHall\", \"maxResults\": 500, \"toDate\": \"201802220342\", \"fromDate\": \"201802220340\"}\n",
      "\t#results: 500\n",
      "('201802220342', '201802220344')\n",
      "query_rule: {\"query\": \"#CNNTownHall\", \"maxResults\": 500, \"toDate\": \"201802220344\", \"fromDate\": \"201802220342\"}\n",
      "\t#results: 500\n",
      "('201802220344', '201802220346')\n",
      "query_rule: {\"query\": \"#CNNTownHall\", \"maxResults\": 500, \"toDate\": \"201802220346\", \"fromDate\": \"201802220344\"}\n",
      "\t#results: 500\n",
      "('201802220346', '201802220348')\n",
      "query_rule: {\"query\": \"#CNNTownHall\", \"maxResults\": 500, \"toDate\": \"201802220348\", \"fromDate\": \"201802220346\"}\n",
      "\t#results: 500\n",
      "('201802220348', '201802220350')\n",
      "query_rule: {\"query\": \"#CNNTownHall\", \"maxResults\": 500, \"toDate\": \"201802220350\", \"fromDate\": \"201802220348\"}\n",
      "\t#results: 500\n",
      "('201802220350', '201802220352')\n",
      "query_rule: {\"query\": \"#CNNTownHall\", \"maxResults\": 500, \"toDate\": \"201802220352\", \"fromDate\": \"201802220350\"}\n",
      "\t#results: 500\n",
      "('201802220352', '201802220354')\n",
      "query_rule: {\"query\": \"#CNNTownHall\", \"maxResults\": 500, \"toDate\": \"201802220354\", \"fromDate\": \"201802220352\"}\n",
      "\t#results: 500\n",
      "('201802220354', '201802220356')\n",
      "query_rule: {\"query\": \"#CNNTownHall\", \"maxResults\": 500, \"toDate\": \"201802220356\", \"fromDate\": \"201802220354\"}\n",
      "\t#results: 500\n",
      "('201802220356', '201802220358')\n",
      "query_rule: {\"query\": \"#CNNTownHall\", \"maxResults\": 500, \"toDate\": \"201802220358\", \"fromDate\": \"201802220356\"}\n",
      "\t#results: 500\n",
      "('201802220358', '201802220400')\n",
      "query_rule: {\"query\": \"#CNNTownHall\", \"maxResults\": 500, \"toDate\": \"201802220400\", \"fromDate\": \"201802220358\"}\n",
      "\t#results: 500\n",
      "('201802220400', '201802220402')\n",
      "query_rule: {\"query\": \"#CNNTownHall\", \"maxResults\": 500, \"toDate\": \"201802220402\", \"fromDate\": \"201802220400\"}\n",
      "\t#results: 500\n"
     ]
    }
   ],
   "source": [
    "for i in range(42):\n",
    "    if not minutes_to_sample:\n",
    "        break\n",
    "    dt_range = safe_pop(minutes_to_sample, already_queried)\n",
    "    print(dt_range)\n",
    "    rule = gen_rule_payload(pt_rule=\"#CNNTownHall\", results_per_call=500, \n",
    "                            from_date=dt_range[0], to_date=dt_range[1])\n",
    "    print('query_rule:',rule)\n",
    "    # make the test query\n",
    "    result = query_and_save(q_rule=rule, from_date=dt_range[0])\n",
    "    print('\\t#results:',len(result))"
   ]
  },
  {
   "cell_type": "code",
   "execution_count": null,
   "metadata": {
    "collapsed": true
   },
   "outputs": [],
   "source": []
  },
  {
   "cell_type": "code",
   "execution_count": 131,
   "metadata": {},
   "outputs": [
    {
     "data": {
      "text/plain": [
       "42"
      ]
     },
     "execution_count": 131,
     "metadata": {},
     "output_type": "execute_result"
    }
   ],
   "source": [
    "len(minutes_to_sample)"
   ]
  },
  {
   "cell_type": "code",
   "execution_count": 133,
   "metadata": {},
   "outputs": [
    {
     "data": {
      "text/plain": [
       "33000"
      ]
     },
     "execution_count": 133,
     "metadata": {},
     "output_type": "execute_result"
    }
   ],
   "source": [
    "500*66"
   ]
  },
  {
   "cell_type": "code",
   "execution_count": null,
   "metadata": {
    "collapsed": true
   },
   "outputs": [],
   "source": []
  }
 ],
 "metadata": {
  "kernelspec": {
   "display_name": "Python [conda env:twitter_env]",
   "language": "python",
   "name": "conda-env-twitter_env-py"
  },
  "language_info": {
   "codemirror_mode": {
    "name": "ipython",
    "version": 3
   },
   "file_extension": ".py",
   "mimetype": "text/x-python",
   "name": "python",
   "nbconvert_exporter": "python",
   "pygments_lexer": "ipython3",
   "version": "3.6.4"
  }
 },
 "nbformat": 4,
 "nbformat_minor": 2
}
